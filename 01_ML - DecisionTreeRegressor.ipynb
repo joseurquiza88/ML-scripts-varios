{
 "cells": [
  {
   "cell_type": "code",
   "execution_count": 40,
   "id": "38d7ebae",
   "metadata": {},
   "outputs": [
    {
     "ename": "ModuleNotFoundError",
     "evalue": "No module named 'xgboost'",
     "output_type": "error",
     "traceback": [
      "\u001b[1;31m---------------------------------------------------------------------------\u001b[0m",
      "\u001b[1;31mModuleNotFoundError\u001b[0m                       Traceback (most recent call last)",
      "\u001b[1;32m<ipython-input-40-1b4960333770>\u001b[0m in \u001b[0;36m<module>\u001b[1;34m\u001b[0m\n\u001b[0;32m     28\u001b[0m \u001b[1;32mfrom\u001b[0m \u001b[0msklearn\u001b[0m\u001b[1;33m.\u001b[0m\u001b[0mmetrics\u001b[0m \u001b[1;32mimport\u001b[0m \u001b[0mmean_absolute_error\u001b[0m\u001b[1;33m,\u001b[0m \u001b[0mmean_squared_error\u001b[0m\u001b[1;33m,\u001b[0m \u001b[0mr2_score\u001b[0m\u001b[1;33m\u001b[0m\u001b[1;33m\u001b[0m\u001b[0m\n\u001b[0;32m     29\u001b[0m \u001b[1;32mfrom\u001b[0m \u001b[0msklearn\u001b[0m\u001b[1;33m.\u001b[0m\u001b[0mmetrics\u001b[0m \u001b[1;32mimport\u001b[0m \u001b[0maccuracy_score\u001b[0m\u001b[1;33m,\u001b[0m \u001b[0mconfusion_matrix\u001b[0m\u001b[1;33m\u001b[0m\u001b[1;33m\u001b[0m\u001b[0m\n\u001b[1;32m---> 30\u001b[1;33m \u001b[1;32mfrom\u001b[0m \u001b[0mxgboost\u001b[0m \u001b[1;32mimport\u001b[0m \u001b[0mXGBRegressor\u001b[0m\u001b[1;33m\u001b[0m\u001b[1;33m\u001b[0m\u001b[0m\n\u001b[0m",
      "\u001b[1;31mModuleNotFoundError\u001b[0m: No module named 'xgboost'"
     ]
    }
   ],
   "source": [
    "# Library\n",
    "import pandas as pd\n",
    "import matplotlib.pyplot as plt\n",
    "import datetime as dt\n",
    "import numpy as np\n",
    "import scipy.stats\n",
    "from sklearn.metrics import mean_squared_error\n",
    "from math import sqrt\n",
    "import os\n",
    "from os import listdir\n",
    "from datetime import datetime\n",
    "import pandas as pd\n",
    "from matplotlib.dates import DateFormatter\n",
    "import matplotlib.ticker as ticker\n",
    "import matplotlib.dates as mdates\n",
    "from sklearn.linear_model import LinearRegression\n",
    "import seaborn as sns\n",
    "import pandas as pd\n",
    "from sklearn.model_selection import train_test_split\n",
    "from sklearn.linear_model import LinearRegression\n",
    "from sklearn.metrics import mean_squared_error, r2_score\n",
    "import matplotlib.pyplot as plt\n",
    "from scipy.stats import pearsonr\n",
    "from sklearn.metrics import mean_squared_error\n",
    "from sklearn.model_selection import train_test_split\n",
    "from sklearn.model_selection import KFold\n",
    "from sklearn import metrics\n",
    "from sklearn.metrics import mean_absolute_error, mean_squared_error, r2_score\n",
    "from sklearn.metrics import accuracy_score, confusion_matrix\n",
    "from xgboost import XGBRegressor"
   ]
  },
  {
   "cell_type": "code",
   "execution_count": 21,
   "id": "df7b5308",
   "metadata": {},
   "outputs": [
    {
     "name": "stdout",
     "output_type": "stream",
     "text": [
      "Index(['Unnamed: 0', 'date', 'AOD_470', 'AOD_550', 'PM25', 'temperatura',\n",
      "       'humedad', 'dirViento', 'velViento', 'estacion', 'year', 'estacion_num',\n",
      "       'AOD_550_HR'],\n",
      "      dtype='object')\n",
      "[2015 2016 2017 2018 2019 2020 2021 2022 2023]\n",
      "['BSQ' 'OHG' 'PDH' 'CNA' 'PTA' 'FLD' 'CDE']\n",
      "12835\n"
     ]
    },
    {
     "data": {
      "text/html": [
       "<div>\n",
       "<style scoped>\n",
       "    .dataframe tbody tr th:only-of-type {\n",
       "        vertical-align: middle;\n",
       "    }\n",
       "\n",
       "    .dataframe tbody tr th {\n",
       "        vertical-align: top;\n",
       "    }\n",
       "\n",
       "    .dataframe thead th {\n",
       "        text-align: right;\n",
       "    }\n",
       "</style>\n",
       "<table border=\"1\" class=\"dataframe\">\n",
       "  <thead>\n",
       "    <tr style=\"text-align: right;\">\n",
       "      <th></th>\n",
       "      <th>Unnamed: 0</th>\n",
       "      <th>date</th>\n",
       "      <th>AOD_470</th>\n",
       "      <th>AOD_550</th>\n",
       "      <th>PM25</th>\n",
       "      <th>temperatura</th>\n",
       "      <th>humedad</th>\n",
       "      <th>dirViento</th>\n",
       "      <th>velViento</th>\n",
       "      <th>estacion</th>\n",
       "      <th>year</th>\n",
       "      <th>estacion_num</th>\n",
       "      <th>AOD_550_HR</th>\n",
       "    </tr>\n",
       "  </thead>\n",
       "  <tbody>\n",
       "    <tr>\n",
       "      <th>0</th>\n",
       "      <td>1</td>\n",
       "      <td>1/1/2015</td>\n",
       "      <td>0.1173</td>\n",
       "      <td>0.0840</td>\n",
       "      <td>13.7083</td>\n",
       "      <td>20.785763</td>\n",
       "      <td>49.979158</td>\n",
       "      <td>2.040632</td>\n",
       "      <td>2.040632</td>\n",
       "      <td>BSQ</td>\n",
       "      <td>2015</td>\n",
       "      <td>1</td>\n",
       "      <td>0.167930</td>\n",
       "    </tr>\n",
       "    <tr>\n",
       "      <th>1</th>\n",
       "      <td>2</td>\n",
       "      <td>2/1/2015</td>\n",
       "      <td>0.0808</td>\n",
       "      <td>0.0580</td>\n",
       "      <td>17.6667</td>\n",
       "      <td>22.714225</td>\n",
       "      <td>36.677087</td>\n",
       "      <td>1.859316</td>\n",
       "      <td>1.859316</td>\n",
       "      <td>BSQ</td>\n",
       "      <td>2015</td>\n",
       "      <td>1</td>\n",
       "      <td>0.091594</td>\n",
       "    </tr>\n",
       "    <tr>\n",
       "      <th>2</th>\n",
       "      <td>3</td>\n",
       "      <td>3/1/2015</td>\n",
       "      <td>0.0527</td>\n",
       "      <td>0.0376</td>\n",
       "      <td>24.5833</td>\n",
       "      <td>23.687146</td>\n",
       "      <td>35.003467</td>\n",
       "      <td>1.903799</td>\n",
       "      <td>1.903799</td>\n",
       "      <td>BSQ</td>\n",
       "      <td>2015</td>\n",
       "      <td>1</td>\n",
       "      <td>0.057849</td>\n",
       "    </tr>\n",
       "    <tr>\n",
       "      <th>3</th>\n",
       "      <td>4</td>\n",
       "      <td>4/1/2015</td>\n",
       "      <td>0.2181</td>\n",
       "      <td>0.1572</td>\n",
       "      <td>24.7500</td>\n",
       "      <td>24.307629</td>\n",
       "      <td>45.854158</td>\n",
       "      <td>1.818842</td>\n",
       "      <td>1.818842</td>\n",
       "      <td>BSQ</td>\n",
       "      <td>2015</td>\n",
       "      <td>1</td>\n",
       "      <td>0.290327</td>\n",
       "    </tr>\n",
       "    <tr>\n",
       "      <th>4</th>\n",
       "      <td>5</td>\n",
       "      <td>5/1/2015</td>\n",
       "      <td>0.1237</td>\n",
       "      <td>0.0887</td>\n",
       "      <td>20.3750</td>\n",
       "      <td>22.223954</td>\n",
       "      <td>51.895812</td>\n",
       "      <td>2.129595</td>\n",
       "      <td>2.129595</td>\n",
       "      <td>BSQ</td>\n",
       "      <td>2015</td>\n",
       "      <td>1</td>\n",
       "      <td>0.184391</td>\n",
       "    </tr>\n",
       "  </tbody>\n",
       "</table>\n",
       "</div>"
      ],
      "text/plain": [
       "   Unnamed: 0      date  AOD_470  AOD_550     PM25  temperatura    humedad  \\\n",
       "0           1  1/1/2015   0.1173   0.0840  13.7083    20.785763  49.979158   \n",
       "1           2  2/1/2015   0.0808   0.0580  17.6667    22.714225  36.677087   \n",
       "2           3  3/1/2015   0.0527   0.0376  24.5833    23.687146  35.003467   \n",
       "3           4  4/1/2015   0.2181   0.1572  24.7500    24.307629  45.854158   \n",
       "4           5  5/1/2015   0.1237   0.0887  20.3750    22.223954  51.895812   \n",
       "\n",
       "   dirViento  velViento estacion  year  estacion_num  AOD_550_HR  \n",
       "0   2.040632   2.040632      BSQ  2015             1    0.167930  \n",
       "1   1.859316   1.859316      BSQ  2015             1    0.091594  \n",
       "2   1.903799   1.903799      BSQ  2015             1    0.057849  \n",
       "3   1.818842   1.818842      BSQ  2015             1    0.290327  \n",
       "4   2.129595   2.129595      BSQ  2015             1    0.184391  "
      ]
     },
     "execution_count": 21,
     "metadata": {},
     "output_type": "execute_result"
    }
   ],
   "source": [
    "#Regresion lineal simple pero con correccion por RH\n",
    "df = data = pd.read_csv(\"D:/Josefina/Proyectos/ProyectoChile/dataset/proceed/merge_pm-maiac-meteo/1000/08-TOT_merge_PM25-MAIAC-Meteo.csv\") \n",
    "df['AOD_550_HR'] = df['AOD_550'] * (1/(1- (df['humedad']/100)))\n",
    "print(df.columns)\n",
    "print(df[\"year\"].unique())\n",
    "print(df[\"estacion\"].unique())\n",
    "print(len(df[\"year\"]))\n",
    "df.head()"
   ]
  },
  {
   "cell_type": "code",
   "execution_count": 22,
   "id": "95175daa",
   "metadata": {},
   "outputs": [
    {
     "name": "stdout",
     "output_type": "stream",
     "text": [
      "<class 'pandas.core.frame.DataFrame'>\n",
      "RangeIndex: 12835 entries, 0 to 12834\n",
      "Data columns (total 13 columns):\n",
      " #   Column        Non-Null Count  Dtype  \n",
      "---  ------        --------------  -----  \n",
      " 0   Unnamed: 0    12835 non-null  int64  \n",
      " 1   date          12835 non-null  object \n",
      " 2   AOD_470       12835 non-null  float64\n",
      " 3   AOD_550       12835 non-null  float64\n",
      " 4   PM25          12835 non-null  float64\n",
      " 5   temperatura   12835 non-null  float64\n",
      " 6   humedad       12835 non-null  float64\n",
      " 7   dirViento     12835 non-null  float64\n",
      " 8   velViento     12835 non-null  float64\n",
      " 9   estacion      12835 non-null  object \n",
      " 10  year          12835 non-null  int64  \n",
      " 11  estacion_num  12835 non-null  int64  \n",
      " 12  AOD_550_HR    12835 non-null  float64\n",
      "dtypes: float64(8), int64(3), object(2)\n",
      "memory usage: 1.3+ MB\n"
     ]
    }
   ],
   "source": [
    "df.info()"
   ]
  },
  {
   "cell_type": "code",
   "execution_count": 23,
   "id": "9453c182",
   "metadata": {},
   "outputs": [
    {
     "data": {
      "image/png": "[encoded data removed]",
      "text/plain": [
       "<Figure size 864x576 with 2 Axes>"
      ]
     },
     "metadata": {
      "needs_background": "light"
     },
     "output_type": "display_data"
    }
   ],
   "source": [
    "#Hacemos un corplot con todas las variables satelitales y de superficie\n",
    "# #Dejamos afuera la columna date\n",
    "df_subset = df.drop(columns = ['Unnamed: 0',\"date\",\"AOD_470\",\"year\",\"estacion\"], inplace=False)\n",
    "df_subset.head()\n",
    "corr = df_subset.corr()\n",
    "fig,ax = plt.subplots(1,1,figsize=(12,8))\n",
    "ax = sns.heatmap(corr,  vmin = -1, vmax = +1, annot = True, cmap = 'coolwarm')"
   ]
  },
  {
   "cell_type": "markdown",
   "id": "f0d5ce54",
   "metadata": {},
   "source": [
    "El DecisionTreeRegressor es una clase en la biblioteca scikit-learn que se utiliza para la regresión utilizando árboles de decisión. Un árbol de decisión es un modelo predictivo que divide los datos en subconjuntos más pequeños y homogéneos de acuerdo con ciertas características, siguiendo una estructura similar a un árbol. \n",
    "Concepto de Árbol de Decisión\n",
    "Un árbol de decisión está compuesto por nodos que representan decisiones basadas en características del conjunto de datos. Hay tres tipos de nodos en un árbol de decisión:\n",
    "\n",
    "- Nodo Raíz (Root Node): Es el primer nodo del árbol, donde se toma la primera decisión.\n",
    "- Nodos Internos (Internal Nodes): Representan decisiones intermedias basadas en características del conjunto de datos.\n",
    "- Hojas (Leaves): Representan los resultados finales o las predicciones.\n",
    "\n",
    "## ¿Qué Hace DecisionTreeRegressor?\n",
    "El DecisionTreeRegressor es un algoritmo de regresión que crea un árbol de decisión para predecir un valor continuo (en lugar de una clase, como en la clasificación). Aquí están los pasos principales que sigue:\n",
    "\n",
    "- Seleccionar la Mejor Característica para Dividir los Datos:\n",
    "\n",
    "El algoritmo evalúa todas las características y encuentra el punto de división que minimiza el error de predicción en los nodos hijos. Esto se hace típicamente usando criterios como el MSE (Mean Squared Error) o el MAE (Mean Absolute Error).\n",
    "- Dividir los Datos:\n",
    "\n",
    "Los datos se dividen en dos subconjuntos en cada nodo basado en el valor de la característica seleccionada.\n",
    "- Repetir el Proceso:\n",
    "\n",
    "El proceso de selección de la mejor característica y la división de los datos se repite recursivamente para cada subconjunto de datos resultante hasta que se cumple algún criterio de detención (como la profundidad máxima del árbol o el número mínimo de muestras en un nodo).\n",
    "- Predicción:\n",
    "\n",
    "Para hacer una predicción, se sigue el camino en el árbol basado en los valores de las características del ejemplo de entrada hasta llegar a una hoja, donde se encuentra el valor predicho"
   ]
  },
  {
   "cell_type": "code",
   "execution_count": 38,
   "id": "8d1dd93f",
   "metadata": {},
   "outputs": [
    {
     "name": "stdout",
     "output_type": "stream",
     "text": [
      "Index(['AOD_550', 'PM25', 'temperatura', 'humedad', 'dirViento', 'velViento',\n",
      "       'estacion_num', 'AOD_550_HR'],\n",
      "      dtype='object')\n"
     ]
    }
   ],
   "source": [
    "print(df_subset.columns)\n",
    "# # Variables independientes (múltiples) y dependientes\n",
    "#X = df[['AOD_550', 'temperatura', 'humedad','dirViento', 'velViento']] \n",
    "X = df[['AOD_550_HR', 'temperatura', 'humedad','dirViento', 'velViento']] \n",
    "y = df['PM25']"
   ]
  },
  {
   "cell_type": "code",
   "execution_count": 39,
   "id": "0e4fc153",
   "metadata": {},
   "outputs": [
    {
     "name": "stdout",
     "output_type": "stream",
     "text": [
      "Mean Squared Error (MSE): 339.3320664930962\n",
      "Mean Absolute Error (MAE): 11.999620767432802\n",
      "R^2 Score: -0.12658970856672624\n"
     ]
    }
   ],
   "source": [
    "# Supongamos que df es tu DataFrame\n",
    "\n",
    "# Dividir los datos en conjuntos de entrenamiento y prueba\n",
    "X_train, X_test, y_train, y_test = train_test_split(X, y, test_size=0.2, random_state=42)\n",
    "\n",
    "# Crear el modelo\n",
    "regressor = DecisionTreeRegressor(random_state=42)\n",
    "\n",
    "# Entrenar el modelo\n",
    "regressor.fit(X_train, y_train)\n",
    "\n",
    "# Hacer predicciones\n",
    "y_pred = regressor.predict(X_test)\n",
    "\n",
    "# Calcular las métricas\n",
    "mse = mean_squared_error(y_test, y_pred)\n",
    "mae = mean_absolute_error(y_test, y_pred)\n",
    "r2 = r2_score(y_test, y_pred)\n",
    "\n",
    "# Imprimir las métricas\n",
    "print(f\"Mean Squared Error (MSE): {mse}\")\n",
    "print(f\"Mean Absolute Error (MAE): {mae}\")\n",
    "print(f\"R^2 Score: {r2}\")"
   ]
  },
  {
   "cell_type": "code",
   "execution_count": 41,
   "id": "4da028ac",
   "metadata": {},
   "outputs": [
    {
     "name": "stdout",
     "output_type": "stream",
     "text": [
      "Mean Squared Error (MSE): 306.4068782630692\n",
      "Mean Absolute Error (MAE): 11.765495743746403\n",
      "R^2 Score: -0.08227376425635788\n"
     ]
    }
   ],
   "source": [
    "import pandas as pd\n",
    "from sklearn.model_selection import KFold\n",
    "from sklearn.tree import DecisionTreeRegressor\n",
    "from sklearn.metrics import mean_squared_error, mean_absolute_error, r2_score\n",
    "\n",
    "# Supongamos que df es tu DataFrame y ya has definido X e y\n",
    "# X = df[['AOD_550', 'temperatura', 'humedad', 'dirViento', 'velViento']]\n",
    "# y = df['PM2.5']\n",
    "\n",
    "# Número de pliegues para la validación cruzada\n",
    "n_splits = 10\n",
    "\n",
    "# Crear el modelo\n",
    "regressor = DecisionTreeRegressor(random_state=42)\n",
    "\n",
    "# Configurar KFold\n",
    "kf = KFold(n_splits=n_splits, shuffle=True, random_state=42)\n",
    "\n",
    "# Inicializar listas para almacenar las métricas\n",
    "mse_list = []\n",
    "mae_list = []\n",
    "r2_list = []\n",
    "\n",
    "# Realizar K-Fold Cross Validation\n",
    "for train_index, test_index in kf.split(X):\n",
    "    X_train, X_test = X.iloc[train_index], X.iloc[test_index]\n",
    "    y_train, y_test = y.iloc[train_index], y.iloc[test_index]\n",
    "    \n",
    "    # Entrenar el modelo\n",
    "    regressor.fit(X_train, y_train)\n",
    "    \n",
    "    # Hacer predicciones\n",
    "    y_pred = regressor.predict(X_test)\n",
    "    \n",
    "    # Calcular las métricas\n",
    "    mse = mean_squared_error(y_test, y_pred)\n",
    "    mae = mean_absolute_error(y_test, y_pred)\n",
    "    r2 = r2_score(y_test, y_pred)\n",
    "    \n",
    "    # Almacenar las métricas\n",
    "    mse_list.append(mse)\n",
    "    mae_list.append(mae)\n",
    "    r2_list.append(r2)\n",
    "\n",
    "# Calcular y mostrar las métricas promedio\n",
    "print(f\"Mean Squared Error (MSE): {sum(mse_list)/n_splits}\")\n",
    "print(f\"Mean Absolute Error (MAE): {sum(mae_list)/n_splits}\")\n",
    "print(f\"R^2 Score: {sum(r2_list)/n_splits}\")\n"
   ]
  },
  {
   "cell_type": "code",
   "execution_count": 44,
   "id": "18c2c839",
   "metadata": {},
   "outputs": [
    {
     "data": {
      "text/plain": [
       "[-0.05350201032224078,\n",
       " -0.047046764701564214,\n",
       " -0.05023791206913719,\n",
       " -0.15854679553229212,\n",
       " -0.0593266574243414,\n",
       " -0.07566961507401615,\n",
       " -0.079007801028802,\n",
       " -0.08777456295590591,\n",
       " -0.17801326985244503,\n",
       " -0.03361225360283404]"
      ]
     },
     "execution_count": 44,
     "metadata": {},
     "output_type": "execute_result"
    }
   ],
   "source": [
    "# Inicializar listas para almacenar las métricas\n",
    "mse_list\n",
    "mae_list\n",
    "r2_list"
   ]
  }
 ],
 "metadata": {
  "kernelspec": {
   "display_name": "Python 3",
   "language": "python",
   "name": "python3"
  },
  "language_info": {
   "codemirror_mode": {
    "name": "ipython",
    "version": 3
   },
   "file_extension": ".py",
   "mimetype": "text/x-python",
   "name": "python",
   "nbconvert_exporter": "python",
   "pygments_lexer": "ipython3",
   "version": "3.8.8"
  }
 },
 "nbformat": 4,
 "nbformat_minor": 5
}
