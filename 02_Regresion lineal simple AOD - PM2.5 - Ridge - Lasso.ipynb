{
 "cells": [
  {
   "cell_type": "code",
   "execution_count": 1,
   "id": "f9e58d20",
   "metadata": {},
   "outputs": [],
   "source": [
    "# Library\n",
    "import pandas as pd\n",
    "import matplotlib.pyplot as plt\n",
    "import datetime as dt\n",
    "import numpy as np\n",
    "import scipy.stats\n",
    "from sklearn.metrics import mean_squared_error\n",
    "from math import sqrt\n",
    "import os\n",
    "from os import listdir\n",
    "from datetime import datetime\n",
    "import pandas as pd\n",
    "from matplotlib.dates import DateFormatter\n",
    "import matplotlib.ticker as ticker\n",
    "import matplotlib.dates as mdates\n",
    "from sklearn.linear_model import LinearRegression\n",
    "import seaborn as sns\n",
    "import pandas as pd\n",
    "from sklearn.model_selection import train_test_split\n",
    "from sklearn.linear_model import LinearRegression\n",
    "from sklearn.metrics import mean_squared_error, r2_score\n",
    "import matplotlib.pyplot as plt\n",
    "from scipy.stats import pearsonr\n",
    "from sklearn.linear_model import Ridge"
   ]
  },
  {
   "cell_type": "markdown",
   "id": "e102417f",
   "metadata": {},
   "source": [
    "**Regresión Lineal:**\n",
    "Ideal para modelos simples con pocas variables y sin multicolinealidad.\n",
    "\n",
    "**Ridge:** \n",
    "Utilizado cuando se desea manejar la multicolinealidad y reducir el sobreajuste sin eliminar variables.\n",
    "\n",
    "**Lasso:** \n",
    "Adecuado para la selección de variables y cuando se desea simplificar el modelo eliminando variables no relevantes."
   ]
  },
  {
   "cell_type": "code",
   "execution_count": 2,
   "id": "b0ab613f",
   "metadata": {},
   "outputs": [],
   "source": [
    "#Regresion lineal simple pero con correccion por RH\n",
    "df = data = pd.read_csv(\"D:/Josefina/Proyectos/ProyectoChile/dataset/proceed/merge_pm-maiac-meteo/1000/08-TOT_merge_PM25-MAIAC-Meteo.csv\") \n",
    "df['AOD_550_HR'] = df['AOD_550'] * (1/(1- (df['humedad']/100)))\n",
    "df = df.drop(columns = [\"estacion_num\"], inplace=False)"
   ]
  },
  {
   "cell_type": "code",
   "execution_count": 13,
   "id": "40179758",
   "metadata": {},
   "outputs": [],
   "source": [
    "# print(df_subset.columns)\n",
    "# # Variables independientes (múltiples) y dependientes\n",
    "X = df[['AOD_550', 'temperatura', 'humedad','dirViento', 'velViento']] \n",
    "# X = df[['AOD_550_HR', 'temperatura', 'humedad','dirViento', 'velViento']] \n",
    "# X = df[['AOD_550_HR', 'temperatura', 'humedad']] \n",
    "y = df['PM25']"
   ]
  },
  {
   "cell_type": "code",
   "execution_count": 14,
   "id": "9e5430cb",
   "metadata": {},
   "outputs": [
    {
     "name": "stdout",
     "output_type": "stream",
     "text": [
      "Regresión Ridge:\n",
      "MSE: 216.86185145455585\n",
      "R^2: 0.2800140212083393\n",
      "Coeficientes Ridge: [34.64250444 -1.69652748 -0.15889751 -2.01455559 -2.01455559]\n",
      "Intercepto Ridge: 63.11336408162309\n"
     ]
    }
   ],
   "source": [
    "# Ridge\n",
    "from sklearn.linear_model import Ridge\n",
    "# Dividir los datos en entrenamiento y prueba\n",
    "X_train, X_test, y_train, y_test = train_test_split(X, y, test_size=0.2, random_state=42)\n",
    "\n",
    "\n",
    "from sklearn.linear_model import Ridge\n",
    "\n",
    "# Crear y ajustar el modelo\n",
    "model_ridge = Ridge(alpha=1.0)  # Puedes ajustar alpha\n",
    "model_ridge.fit(X_train, y_train)\n",
    "\n",
    "# Hacer predicciones\n",
    "y_pred_ridge = model_ridge.predict(X_test)\n",
    "\n",
    "# Evaluar el modelo\n",
    "mse_ridge = mean_squared_error(y_test, y_pred_ridge)\n",
    "r2_ridge = r2_score(y_test, y_pred_ridge)\n",
    "\n",
    "print('Regresión Ridge:')\n",
    "print('MSE:', mse_ridge)\n",
    "print('R^2:', r2_ridge)\n",
    "print('Coeficientes Ridge:', model_ridge.coef_)\n",
    "print('Intercepto Ridge:', model_ridge.intercept_)"
   ]
  },
  {
   "cell_type": "code",
   "execution_count": 15,
   "id": "643572c5",
   "metadata": {},
   "outputs": [
    {
     "name": "stdout",
     "output_type": "stream",
     "text": [
      "Regresión Lasso:\n",
      "MSE: 221.21521555773316\n",
      "R^2: 0.265560759402081\n",
      "Coeficientes Lasso: [ 5.79602507 -1.5772546  -0.06076156 -3.54834933 -0.        ]\n",
      "Intercepto Lasso: 58.31521468286111\n"
     ]
    }
   ],
   "source": [
    "# Lasso\n",
    "from sklearn.linear_model import Lasso\n",
    "\n",
    "# Crear y ajustar el modelo\n",
    "model_lasso = Lasso(alpha=0.1)  # Puedes ajustar alpha\n",
    "model_lasso.fit(X_train, y_train)\n",
    "\n",
    "# Hacer predicciones\n",
    "y_pred_lasso = model_lasso.predict(X_test)\n",
    "\n",
    "# Evaluar el modelo\n",
    "mse_lasso = mean_squared_error(y_test, y_pred_lasso)\n",
    "r2_lasso = r2_score(y_test, y_pred_lasso)\n",
    "\n",
    "print('Regresión Lasso:')\n",
    "print('MSE:', mse_lasso)\n",
    "print('R^2:', r2_lasso)\n",
    "print('Coeficientes Lasso:', model_lasso.coef_)\n",
    "print('Intercepto Lasso:', model_lasso.intercept_)\n",
    "\n"
   ]
  },
  {
   "cell_type": "code",
   "execution_count": 2,
   "id": "3066b1fc",
   "metadata": {},
   "outputs": [
    {
     "name": "stdout",
     "output_type": "stream",
     "text": [
      "Error cuadrático medio: 4.4284270810161415\n",
      "Coeficientes: [ 1.90345333 -2.51549343  5.01511489]\n",
      "Intercepto: 42.875\n"
     ]
    }
   ],
   "source": [
    "import numpy as np\n",
    "import pandas as pd\n",
    "from sklearn.linear_model import Ridge\n",
    "from sklearn.model_selection import train_test_split\n",
    "from sklearn.preprocessing import StandardScaler\n",
    "from sklearn.metrics import mean_squared_error\n",
    "\n",
    "# Crear un DataFrame de ejemplo\n",
    "data = {\n",
    "    'AOD_550': [0.1, 0.2, 0.15, 0.18, 0.25, 0.3, 0.22, 0.19, 0.21, 0.23],\n",
    "    'temperatura': [22.1, 23.5, 21.6, 19.8, 24.3, 25.1, 18.7, 20.5, 23.0, 21.2],\n",
    "    'humedad': [55, 60, 58, 63, 59, 57, 62, 61, 56, 54],\n",
    "    'PM2.5': [35, 42, 37, 50, 44, 38, 55, 48, 40, 36]\n",
    "}\n",
    "\n",
    "df = pd.DataFrame(data)\n",
    "\n",
    "# Separar las características (variables predictoras) y la variable objetivo\n",
    "X = df[['AOD_550', 'temperatura', 'humedad']]\n",
    "y = df['PM2.5']\n",
    "\n",
    "# Dividir los datos en conjuntos de entrenamiento y prueba\n",
    "X_train, X_test, y_train, y_test = train_test_split(X, y, test_size=0.2, random_state=42)\n",
    "\n",
    "# Normalizar las características\n",
    "scaler = StandardScaler()\n",
    "X_train_scaled = scaler.fit_transform(X_train)\n",
    "X_test_scaled = scaler.transform(X_test)\n",
    "\n",
    "# Crear y entrenar el modelo Ridge con el parámetro de regularización alpha=0.1\n",
    "ridge = Ridge(alpha=0.1)\n",
    "ridge.fit(X_train_scaled, y_train)\n",
    "\n",
    "# Hacer predicciones en el conjunto de prueba\n",
    "y_pred = ridge.predict(X_test_scaled)\n",
    "\n",
    "# Evaluar el modelo usando el error cuadrático medio\n",
    "mse = mean_squared_error(y_test, y_pred)\n",
    "print(f\"Error cuadrático medio: {mse}\")\n",
    "\n",
    "# Obtener los coeficientes del modelo\n",
    "coeficientes = ridge.coef_\n",
    "intercepto = ridge.intercept_\n",
    "\n",
    "print(\"Coeficientes:\", coeficientes)\n",
    "print(\"Intercepto:\", intercepto)\n"
   ]
  },
  {
   "cell_type": "code",
   "execution_count": null,
   "id": "26293f62",
   "metadata": {},
   "outputs": [],
   "source": []
  }
 ],
 "metadata": {
  "kernelspec": {
   "display_name": "Python 3",
   "language": "python",
   "name": "python3"
  },
  "language_info": {
   "codemirror_mode": {
    "name": "ipython",
    "version": 3
   },
   "file_extension": ".py",
   "mimetype": "text/x-python",
   "name": "python",
   "nbconvert_exporter": "python",
   "pygments_lexer": "ipython3",
   "version": "3.8.8"
  }
 },
 "nbformat": 4,
 "nbformat_minor": 5
}
