{
 "cells": [
  {
   "cell_type": "code",
   "execution_count": 1,
   "id": "36bb1410",
   "metadata": {},
   "outputs": [],
   "source": [
    "import cdsapi"
   ]
  },
  {
   "cell_type": "code",
   "execution_count": null,
   "id": "cd6c2bd3",
   "metadata": {},
   "outputs": [],
   "source": [
    "wf_set_key(user = #\"134318\",\n",
    "           key = \"e9734b12-36e2-4afe-9725-3c5738dd89a0\",#\"2045f203-20ba-43fc-b338-e242d5431485\",\n",
    "           service = \"cds\")"
   ]
  },
  {
   "cell_type": "code",
   "execution_count": 3,
   "id": "e6d30cbe",
   "metadata": {},
   "outputs": [
    {
     "ename": "TypeError",
     "evalue": "__init__() got an unexpected keyword argument 'user'",
     "output_type": "error",
     "traceback": [
      "\u001b[1;31m---------------------------------------------------------------------------\u001b[0m",
      "\u001b[1;31mTypeError\u001b[0m                                 Traceback (most recent call last)",
      "\u001b[1;32m<ipython-input-3-49767643c83a>\u001b[0m in \u001b[0;36m<module>\u001b[1;34m\u001b[0m\n\u001b[1;32m----> 1\u001b[1;33m client = cdsapi.Client(user = \"134318\",\n\u001b[0m\u001b[0;32m      2\u001b[0m            \u001b[0mkey\u001b[0m \u001b[1;33m=\u001b[0m \u001b[1;34m\"e9734b12-36e2-4afe-9725-3c5738dd89a0\"\u001b[0m\u001b[1;33m,\u001b[0m\u001b[1;31m#\"2045f203-20ba-43fc-b338-e242d5431485\",\u001b[0m\u001b[1;33m\u001b[0m\u001b[1;33m\u001b[0m\u001b[0m\n\u001b[0;32m      3\u001b[0m            service = \"cds\")\n",
      "\u001b[1;31mTypeError\u001b[0m: __init__() got an unexpected keyword argument 'user'"
     ]
    }
   ],
   "source": [
    "client = cdsapi.Client(user = \"134318\",\n",
    "           key = \"e9734b12-36e2-4afe-9725-3c5738dd89a0\",#\"2045f203-20ba-43fc-b338-e242d5431485\",\n",
    "           service = \"cds\")"
   ]
  }
 ],
 "metadata": {
  "kernelspec": {
   "display_name": "Python 3",
   "language": "python",
   "name": "python3"
  },
  "language_info": {
   "codemirror_mode": {
    "name": "ipython",
    "version": 3
   },
   "file_extension": ".py",
   "mimetype": "text/x-python",
   "name": "python",
   "nbconvert_exporter": "python",
   "pygments_lexer": "ipython3",
   "version": "3.8.8"
  }
 },
 "nbformat": 4,
 "nbformat_minor": 5
}
